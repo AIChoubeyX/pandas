{
 "cells": [
  {
   "cell_type": "markdown",
   "metadata": {},
   "source": [
    "#### Writing a CSV file in Python"
   ]
  },
  {
   "cell_type": "code",
   "execution_count": 1,
   "metadata": {},
   "outputs": [
    {
     "name": "stdout",
     "output_type": "stream",
     "text": []
    }
   ],
   "source": [
    "import pandas as pd  # Importing pandas library\n",
    "\n",
    "# Creating a dictionary with sample data\n",
    "dic = {\"a\": [1, 2, 3, 4, 5], \"b\": [6, 7, 8, 9, 10], \"c\": [11, 12, 13, 14, 15]}\n",
    "\n",
    "# Converting the dictionary into a DataFrame\n",
    "d = pd.DataFrame(dic)\n",
    "print(d)  # Printing the DataFrame\n",
    "\n",
    "# Writing the DataFrame to a CSV file without the index\n",
    "d.to_csv(\"data1.csv\", index=False)"
   ]
  },
  {
   "cell_type": "markdown",
   "metadata": {},
   "source": [
    "#### Reading a CSV file using Python"
   ]
  },
  {
   "cell_type": "code",
   "execution_count": null,
   "metadata": {},
   "outputs": [],
   "source": []
  }
 ],
 "metadata": {
  "kernelspec": {
   "display_name": "Python 3",
   "language": "python",
   "name": "python3"
  },
  "language_info": {
   "codemirror_mode": {
    "name": "ipython",
    "version": 3
   },
   "file_extension": ".py",
   "mimetype": "text/x-python",
   "name": "python",
   "nbconvert_exporter": "python",
   "pygments_lexer": "ipython3",
   "version": "3.12.5"
  }
 },
 "nbformat": 4,
 "nbformat_minor": 2
}
