{
 "cells": [
  {
   "cell_type": "markdown",
   "metadata": {},
   "source": [
    "### How to perform arithmetic operations in pandas"
   ]
  },
  {
   "cell_type": "code",
   "execution_count": null,
   "metadata": {},
   "outputs": [
    {
     "name": "stdout",
     "output_type": "stream",
     "text": [
      "   A  B   C   c\n",
      "0  1  4   7   5\n",
      "1  2  5   8   7\n",
      "2  3  6   9   9\n",
      "3  4  7  10  11\n",
      "4  5  8  11  13\n"
     ]
    }
   ],
   "source": [
    "import pandas as pd\n",
    "var = pd.DataFrame ({'A': [1, 2, 3 ,4,5], 'B': [4, 5, 6 , 7, 8], 'C': [7, 8, 9, 10, 11]})\n",
    "# var[\"c\"] = var[\"A\"] + var[\"B\"]\n",
    "print(var)\n"
   ]
  },
  {
   "cell_type": "code",
   "execution_count": 4,
   "metadata": {},
   "outputs": [
    {
     "name": "stdout",
     "output_type": "stream",
     "text": [
      "   A  B   C   c\n",
      "0  1  4   7   5\n",
      "1  2  5   8   7\n",
      "2  3  6   9   9\n",
      "3  4  7  10  11\n",
      "4  5  8  11  13\n"
     ]
    }
   ],
   "source": [
    "var[\"c\"] = var[\"A\"] + var[\"B\"]\n",
    "print(var)"
   ]
  },
  {
   "cell_type": "code",
   "execution_count": 7,
   "metadata": {},
   "outputs": [
    {
     "name": "stdout",
     "output_type": "stream",
     "text": [
      "   A   C\n",
      "0  1   7\n",
      "1  2   8\n",
      "2  3   9\n",
      "3  4  10\n",
      "4  5  11\n",
      "   A   C  python\n",
      "0  1   7   False\n",
      "1  2   8   False\n",
      "2  3   9    True\n",
      "3  4  10    True\n",
      "4  5  11    True\n"
     ]
    }
   ],
   "source": [
    "var1 = pd.DataFrame ({'A': [1, 2, 3 ,4,5], 'C': [7, 8, 9, 10, 11]})\n",
    "print(var1)\n",
    "var1[\"python\"] = var1[\"A\"] >= 3\n",
    "print(var1)\n",
    "\n"
   ]
  }
 ],
 "metadata": {
  "kernelspec": {
   "display_name": "Python 3",
   "language": "python",
   "name": "python3"
  },
  "language_info": {
   "codemirror_mode": {
    "name": "ipython",
    "version": 3
   },
   "file_extension": ".py",
   "mimetype": "text/x-python",
   "name": "python",
   "nbconvert_exporter": "python",
   "pygments_lexer": "ipython3",
   "version": "3.12.5"
  }
 },
 "nbformat": 4,
 "nbformat_minor": 2
}
