{
 "cells": [
  {
   "cell_type": "markdown",
   "metadata": {},
   "source": [
    "## DataFrame in pandas\n"
   ]
  },
  {
   "cell_type": "code",
   "execution_count": 28,
   "metadata": {},
   "outputs": [
    {
     "name": "stdout",
     "output_type": "stream",
     "text": [
      "   0  1  2  3   4\n",
      "0  1  2  3  4   5\n",
      "1  6  7  8  9  10\n",
      "    0   1   2   3   4\n",
      "0   2   4   6   8  10\n",
      "1  12  14  16  18  20\n"
     ]
    }
   ],
   "source": [
    "import pandas as pd\n",
    "\n",
    "x = [[1,2,3,4,5], [6,7,8,9,10]]\n",
    "y = [[1,2,3,4,5], [6,7,8,9,10]]\n",
    "var = pd.DataFrame(x)\n",
    "var3 = pd.DataFrame(y)\n",
    "print(var)\n",
    "print(var+var3)"
   ]
  },
  {
   "cell_type": "code",
   "execution_count": 16,
   "metadata": {},
   "outputs": [
    {
     "name": "stdout",
     "output_type": "stream",
     "text": [
      "   a   b\n",
      "0  1   6\n",
      "1  2   7\n",
      "2  3   8\n",
      "3  4   9\n",
      "4  5  10\n",
      "3\n"
     ]
    }
   ],
   "source": [
    "d ={\"a\" :[1,2,3,4,5], \"b\" : [6,7,8,9,10]}\n",
    "var1 = pd.DataFrame(d)\n",
    "print(var1)\n",
    "print(var1[\"a\" ][2])"
   ]
  },
  {
   "cell_type": "markdown",
   "metadata": {},
   "source": [
    "### we can create a DataFrame using series\n"
   ]
  },
  {
   "cell_type": "code",
   "execution_count": 29,
   "metadata": {},
   "outputs": [
    {
     "name": "stdout",
     "output_type": "stream",
     "text": [
      "   a   b\n",
      "0  1   6\n",
      "1  2   7\n",
      "2  3   8\n",
      "3  4   9\n",
      "4  5  10\n"
     ]
    }
   ],
   "source": [
    "sr = {\"a\" : pd.Series([1,2,3,4,5]), \"b\" : pd.Series([6,7,8,9,10])}\n",
    "var2 = pd.DataFrame(sr)\n",
    "print(var2)"
   ]
  },
  {
   "cell_type": "markdown",
   "metadata": {},
   "source": [
    "### Insert data in DataFrames"
   ]
  },
  {
   "cell_type": "code",
   "execution_count": 42,
   "metadata": {},
   "outputs": [
    {
     "name": "stdout",
     "output_type": "stream",
     "text": [
      "   a   b\n",
      "0  1   6\n",
      "1  2   7\n",
      "2  3   8\n",
      "3  4   9\n",
      "4  5  10\n"
     ]
    }
   ],
   "source": [
    "\n",
    "var1 = pd.DataFrame({'a' : [1,2,3,4,5], 'b' : [6,7,8,9,10]})\n",
    "print(var1)"
   ]
  },
  {
   "cell_type": "code",
   "execution_count": 43,
   "metadata": {},
   "outputs": [
    {
     "name": "stdout",
     "output_type": "stream",
     "text": [
      "   a   e   b\n",
      "0  1  11   6\n",
      "1  2  12   7\n",
      "2  3  13   8\n",
      "3  4  14   9\n",
      "4  5  15  10\n"
     ]
    }
   ],
   "source": [
    "var1.insert(1, \"e\", [11,12,13,14,15])\n",
    "print(var1)"
   ]
  },
  {
   "cell_type": "markdown",
   "metadata": {},
   "source": [
    "### Delete the data in DataFrame\n"
   ]
  },
  {
   "cell_type": "code",
   "execution_count": 49,
   "metadata": {},
   "outputs": [
    {
     "name": "stdout",
     "output_type": "stream",
     "text": [
      "    b\n",
      "0   6\n",
      "1   7\n",
      "2   8\n",
      "3   9\n",
      "4  10\n"
     ]
    }
   ],
   "source": [
    "var1.pop (\"a\")\n",
    "print(var1)\n"
   ]
  }
 ],
 "metadata": {
  "kernelspec": {
   "display_name": "Python 3",
   "language": "python",
   "name": "python3"
  },
  "language_info": {
   "codemirror_mode": {
    "name": "ipython",
    "version": 3
   },
   "file_extension": ".py",
   "mimetype": "text/x-python",
   "name": "python",
   "nbconvert_exporter": "python",
   "pygments_lexer": "ipython3",
   "version": "3.12.5"
  }
 },
 "nbformat": 4,
 "nbformat_minor": 2
}
