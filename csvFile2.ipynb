{
 "cells": [
  {
   "cell_type": "markdown",
   "metadata": {},
   "source": [
    "### Reading of CSV file in python"
   ]
  },
  {
   "cell_type": "code",
   "execution_count": null,
   "metadata": {},
   "outputs": [
    {
     "name": "stdout",
     "output_type": "stream",
     "text": [
      "    id         name  class  mark  gender\n",
      "0    1     John Deo   Four    75  female\n",
      "1    2     Max Ruin  Three    85    male\n",
      "2    3       Arnold  Three    55    male\n",
      "3    4   Krish Star   Four    60  female\n",
      "4    5    John Mike   Four    60  female\n",
      "5    6    Alex John   Four    55    male\n",
      "6    7  My John Rob  Fifth    78    male\n",
      "7    8       Asruid   Five    85    male\n",
      "8    9      Tes Qry    Six    78    male\n",
      "9   10     Big John   Four    55  female\n",
      "10  11       Ronald    Six    89  female\n",
      "11  12        Recky    Six    94  female\n",
      "12  13          Kty  Seven    88  female\n",
      "13  14         Bigy  Seven    88  female\n",
      "14  15     Tade Row   Four    88    male\n",
      "15  16        Gimmy   Four    88    male\n",
      "16  17        Tumyu    Six    54    male\n",
      "17  18        Honny   Five    75    male\n",
      "18  19        Tinny   Nine    18    male\n",
      "19  20       Jackly   Nine    65  female\n",
      "20  21   Babby John   Four    69  female\n",
      "21  22       Reggid  Seven    55  female\n",
      "22  23        Herod  Eight    79    male\n",
      "23  24    Tiddy Now  Seven    78    male\n",
      "24  25     Giff Tow  Seven    88    male\n",
      "25  26       Crelea  Seven    79    male\n",
      "26  27     Big Nose  Three    81  female\n",
      "27  28    Rojj Base  Seven    86  female\n",
      "28  29  Tess Played  Seven    55    male\n",
      "29  30    Reppy Red    Six    79  female\n",
      "30  31  Marry Toeey   Four    88    male\n",
      "31  32    Binn Rott  Seven    90  female\n",
      "32  33    Kenn Rein    Six    96  female\n",
      "33  34     Gain Toe  Seven    69    male\n",
      "34  35   Rows Noump    Six    88  female\n"
     ]
    }
   ],
   "source": [
    "import pandas as pd\n",
    "csv_1 = pd.read_csv(\"student.csv.csv\")\n",
    "print(csv_1)"
   ]
  },
  {
   "cell_type": "markdown",
   "metadata": {},
   "source": [
    "### nrows is used to get a row ...nrows=1"
   ]
  },
  {
   "cell_type": "code",
   "execution_count": 8,
   "metadata": {},
   "outputs": [
    {
     "name": "stdout",
     "output_type": "stream",
     "text": [
      "   id      name class  mark  gender\n",
      "0   1  John Deo  Four    75  female\n"
     ]
    }
   ],
   "source": [
    "csv_2 = pd.read_csv(\"student.csv.csv\" , nrows=1)\n",
    "print(csv_2)"
   ]
  },
  {
   "cell_type": "markdown",
   "metadata": {},
   "source": [
    "#### usecols is used to get a column ..[\"coulmn head\"]"
   ]
  },
  {
   "cell_type": "code",
   "execution_count": 11,
   "metadata": {},
   "outputs": [
    {
     "name": "stdout",
     "output_type": "stream",
     "text": [
      "           name  mark\n",
      "0      John Deo    75\n",
      "1      Max Ruin    85\n",
      "2        Arnold    55\n",
      "3    Krish Star    60\n",
      "4     John Mike    60\n",
      "5     Alex John    55\n",
      "6   My John Rob    78\n",
      "7        Asruid    85\n",
      "8       Tes Qry    78\n",
      "9      Big John    55\n",
      "10       Ronald    89\n",
      "11        Recky    94\n",
      "12          Kty    88\n",
      "13         Bigy    88\n",
      "14     Tade Row    88\n",
      "15        Gimmy    88\n",
      "16        Tumyu    54\n",
      "17        Honny    75\n",
      "18        Tinny    18\n",
      "19       Jackly    65\n",
      "20   Babby John    69\n",
      "21       Reggid    55\n",
      "22        Herod    79\n",
      "23    Tiddy Now    78\n",
      "24     Giff Tow    88\n",
      "25       Crelea    79\n",
      "26     Big Nose    81\n",
      "27    Rojj Base    86\n",
      "28  Tess Played    55\n",
      "29    Reppy Red    79\n",
      "30  Marry Toeey    88\n",
      "31    Binn Rott    90\n",
      "32    Kenn Rein    96\n",
      "33     Gain Toe    69\n",
      "34   Rows Noump    88\n"
     ]
    }
   ],
   "source": [
    "csv_3 = pd.read_csv(\"student.csv.csv\" , usecols=[\"name\" , \"mark\"])\n",
    "print(csv_3)"
   ]
  },
  {
   "cell_type": "markdown",
   "metadata": {},
   "source": [
    "##### to skip rows we use the function skiprows\n",
    "##### index_col is used to change the index of column"
   ]
  },
  {
   "cell_type": "code",
   "execution_count": 12,
   "metadata": {},
   "outputs": [
    {
     "name": "stdout",
     "output_type": "stream",
     "text": [
      "      id         name  class  gender\n",
      "mark                                \n",
      "75     1     John Deo   Four  female\n",
      "85     2     Max Ruin  Three    male\n",
      "55     3       Arnold  Three    male\n",
      "60     4   Krish Star   Four  female\n",
      "60     5    John Mike   Four  female\n",
      "55     6    Alex John   Four    male\n",
      "78     7  My John Rob  Fifth    male\n",
      "85     8       Asruid   Five    male\n",
      "78     9      Tes Qry    Six    male\n",
      "55    10     Big John   Four  female\n",
      "89    11       Ronald    Six  female\n",
      "94    12        Recky    Six  female\n",
      "88    13          Kty  Seven  female\n",
      "88    14         Bigy  Seven  female\n",
      "88    15     Tade Row   Four    male\n",
      "88    16        Gimmy   Four    male\n",
      "54    17        Tumyu    Six    male\n",
      "75    18        Honny   Five    male\n",
      "18    19        Tinny   Nine    male\n",
      "65    20       Jackly   Nine  female\n",
      "69    21   Babby John   Four  female\n",
      "55    22       Reggid  Seven  female\n",
      "79    23        Herod  Eight    male\n",
      "78    24    Tiddy Now  Seven    male\n",
      "88    25     Giff Tow  Seven    male\n",
      "79    26       Crelea  Seven    male\n",
      "81    27     Big Nose  Three  female\n",
      "86    28    Rojj Base  Seven  female\n",
      "55    29  Tess Played  Seven    male\n",
      "79    30    Reppy Red    Six  female\n",
      "88    31  Marry Toeey   Four    male\n",
      "90    32    Binn Rott  Seven  female\n",
      "96    33    Kenn Rein    Six  female\n",
      "69    34     Gain Toe  Seven    male\n",
      "88    35   Rows Noump    Six  female\n"
     ]
    }
   ],
   "source": [
    "csv_4 = pd.read_csv(\"student.csv.csv\" , index_col = \"mark\")\n",
    "print(csv_4)"
   ]
  },
  {
   "cell_type": "markdown",
   "metadata": {},
   "source": [
    "##### header is used to change the header"
   ]
  },
  {
   "cell_type": "code",
   "execution_count": 13,
   "metadata": {},
   "outputs": [
    {
     "name": "stdout",
     "output_type": "stream",
     "text": [
      "     3       Arnold  Three  55    male\n",
      "0    4   Krish Star   Four  60  female\n",
      "1    5    John Mike   Four  60  female\n",
      "2    6    Alex John   Four  55    male\n",
      "3    7  My John Rob  Fifth  78    male\n",
      "4    8       Asruid   Five  85    male\n",
      "5    9      Tes Qry    Six  78    male\n",
      "6   10     Big John   Four  55  female\n",
      "7   11       Ronald    Six  89  female\n",
      "8   12        Recky    Six  94  female\n",
      "9   13          Kty  Seven  88  female\n",
      "10  14         Bigy  Seven  88  female\n",
      "11  15     Tade Row   Four  88    male\n",
      "12  16        Gimmy   Four  88    male\n",
      "13  17        Tumyu    Six  54    male\n",
      "14  18        Honny   Five  75    male\n",
      "15  19        Tinny   Nine  18    male\n",
      "16  20       Jackly   Nine  65  female\n",
      "17  21   Babby John   Four  69  female\n",
      "18  22       Reggid  Seven  55  female\n",
      "19  23        Herod  Eight  79    male\n",
      "20  24    Tiddy Now  Seven  78    male\n",
      "21  25     Giff Tow  Seven  88    male\n",
      "22  26       Crelea  Seven  79    male\n",
      "23  27     Big Nose  Three  81  female\n",
      "24  28    Rojj Base  Seven  86  female\n",
      "25  29  Tess Played  Seven  55    male\n",
      "26  30    Reppy Red    Six  79  female\n",
      "27  31  Marry Toeey   Four  88    male\n",
      "28  32    Binn Rott  Seven  90  female\n",
      "29  33    Kenn Rein    Six  96  female\n",
      "30  34     Gain Toe  Seven  69    male\n",
      "31  35   Rows Noump    Six  88  female\n"
     ]
    }
   ],
   "source": [
    "csv_4 = pd.read_csv(\"student.csv.csv\" , header=3)\n",
    "print(csv_4)"
   ]
  },
  {
   "cell_type": "code",
   "execution_count": 16,
   "metadata": {},
   "outputs": [
    {
     "name": "stdout",
     "output_type": "stream",
     "text": [
      "     0            1      2     3       4\n",
      "0   id         name  class  mark  gender\n",
      "1    1     John Deo   Four    75  female\n",
      "2    2     Max Ruin  Three    85    male\n",
      "3    3       Arnold  Three    55    male\n",
      "4    4   Krish Star   Four    60  female\n",
      "5    5    John Mike   Four    60  female\n",
      "6    6    Alex John   Four    55    male\n",
      "7    7  My John Rob  Fifth    78    male\n",
      "8    8       Asruid   Five    85    male\n",
      "9    9      Tes Qry    Six    78    male\n",
      "10  10     Big John   Four    55  female\n",
      "11  11       Ronald    Six    89  female\n",
      "12  12        Recky    Six    94  female\n",
      "13  13          Kty  Seven    88  female\n",
      "14  14         Bigy  Seven    88  female\n",
      "15  15     Tade Row   Four    88    male\n",
      "16  16        Gimmy   Four    88    male\n",
      "17  17        Tumyu    Six    54    male\n",
      "18  18        Honny   Five    75    male\n",
      "19  19        Tinny   Nine    18    male\n",
      "20  20       Jackly   Nine    65  female\n",
      "21  21   Babby John   Four    69  female\n",
      "22  22       Reggid  Seven    55  female\n",
      "23  23        Herod  Eight    79    male\n",
      "24  24    Tiddy Now  Seven    78    male\n",
      "25  25     Giff Tow  Seven    88    male\n",
      "26  26       Crelea  Seven    79    male\n",
      "27  27     Big Nose  Three    81  female\n",
      "28  28    Rojj Base  Seven    86  female\n",
      "29  29  Tess Played  Seven    55    male\n",
      "30  30    Reppy Red    Six    79  female\n",
      "31  31  Marry Toeey   Four    88    male\n",
      "32  32    Binn Rott  Seven    90  female\n",
      "33  33    Kenn Rein    Six    96  female\n",
      "34  34     Gain Toe  Seven    69    male\n",
      "35  35   Rows Noump    Six    88  female\n"
     ]
    }
   ],
   "source": [
    "csv_5 = pd.read_csv(\"student.csv.csv\" , header=None )\n",
    "print(csv_5)"
   ]
  }
 ],
 "metadata": {
  "kernelspec": {
   "display_name": "Python 3",
   "language": "python",
   "name": "python3"
  },
  "language_info": {
   "codemirror_mode": {
    "name": "ipython",
    "version": 3
   },
   "file_extension": ".py",
   "mimetype": "text/x-python",
   "name": "python",
   "nbconvert_exporter": "python",
   "pygments_lexer": "ipython3",
   "version": "3.12.5"
  }
 },
 "nbformat": 4,
 "nbformat_minor": 2
}
